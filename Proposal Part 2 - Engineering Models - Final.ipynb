{
 "cells": [
  {
   "cell_type": "code",
   "execution_count": 1,
   "id": "06fa8224",
   "metadata": {},
   "outputs": [],
   "source": [
    "#Import some librairies\n",
    "import pandas as pd\n",
    "import numpy as np\n",
    "import matplotlib.pyplot as plt\n",
    "import seaborn as sns\n",
    "import gc\n",
    "from scipy.stats import pearsonr\n",
    "from sklearn import preprocessing\n",
    "\n",
    "import time\n",
    "%matplotlib inline\n",
    "plt.style.use('ggplot')\n",
    "\n",
    "#use Path for choosing all file whose tail is csv, and refuse file whose name contains 'description'\n",
    "from pathlib import Path\n"
   ]
  },
  {
   "cell_type": "markdown",
   "id": "f21907a0",
   "metadata": {},
   "source": [
    "# Engineering data"
   ]
  },
  {
   "cell_type": "code",
   "execution_count": 2,
   "id": "cb7b21a5",
   "metadata": {
    "scrolled": true
   },
   "outputs": [
    {
     "data": {
      "text/html": [
       "<div>\n",
       "<style scoped>\n",
       "    .dataframe tbody tr th:only-of-type {\n",
       "        vertical-align: middle;\n",
       "    }\n",
       "\n",
       "    .dataframe tbody tr th {\n",
       "        vertical-align: top;\n",
       "    }\n",
       "\n",
       "    .dataframe thead th {\n",
       "        text-align: right;\n",
       "    }\n",
       "</style>\n",
       "<table border=\"1\" class=\"dataframe\">\n",
       "  <thead>\n",
       "    <tr style=\"text-align: right;\">\n",
       "      <th></th>\n",
       "      <th>SK_ID_CURR</th>\n",
       "      <th>TARGET</th>\n",
       "      <th>NAME_CONTRACT_TYPE</th>\n",
       "      <th>CODE_GENDER</th>\n",
       "      <th>FLAG_OWN_CAR</th>\n",
       "      <th>FLAG_OWN_REALTY</th>\n",
       "      <th>CNT_CHILDREN</th>\n",
       "      <th>AMT_INCOME_TOTAL</th>\n",
       "      <th>AMT_CREDIT</th>\n",
       "      <th>AMT_ANNUITY</th>\n",
       "      <th>...</th>\n",
       "      <th>AMT_CREDIT_SUM</th>\n",
       "      <th>AMT_CREDIT_SUM_OVERDUE</th>\n",
       "      <th>CREDIT_TYPE</th>\n",
       "      <th>SK_ID_PREV</th>\n",
       "      <th>AMT_APPLICATION</th>\n",
       "      <th>NAME_CONTRACT_STATUS</th>\n",
       "      <th>NAME_CLIENT_TYPE</th>\n",
       "      <th>DAYS_LAST_DUE</th>\n",
       "      <th>DAYS_TERMINATION</th>\n",
       "      <th>NFLAG_INSURED_ON_APPROVAL</th>\n",
       "    </tr>\n",
       "  </thead>\n",
       "  <tbody>\n",
       "    <tr>\n",
       "      <th>0</th>\n",
       "      <td>100002</td>\n",
       "      <td>1</td>\n",
       "      <td>Cash loans</td>\n",
       "      <td>M</td>\n",
       "      <td>N</td>\n",
       "      <td>Y</td>\n",
       "      <td>0</td>\n",
       "      <td>202500.0</td>\n",
       "      <td>406597.5</td>\n",
       "      <td>24700.5</td>\n",
       "      <td>...</td>\n",
       "      <td>40761.0</td>\n",
       "      <td>0.0</td>\n",
       "      <td>Credit card</td>\n",
       "      <td>1038818.0</td>\n",
       "      <td>179055.0</td>\n",
       "      <td>Approved</td>\n",
       "      <td>New</td>\n",
       "      <td>-25.0</td>\n",
       "      <td>-17.0</td>\n",
       "      <td>0.0</td>\n",
       "    </tr>\n",
       "    <tr>\n",
       "      <th>1</th>\n",
       "      <td>100002</td>\n",
       "      <td>1</td>\n",
       "      <td>Cash loans</td>\n",
       "      <td>M</td>\n",
       "      <td>N</td>\n",
       "      <td>Y</td>\n",
       "      <td>0</td>\n",
       "      <td>202500.0</td>\n",
       "      <td>406597.5</td>\n",
       "      <td>24700.5</td>\n",
       "      <td>...</td>\n",
       "      <td>135000.0</td>\n",
       "      <td>0.0</td>\n",
       "      <td>Consumer credit</td>\n",
       "      <td>1038818.0</td>\n",
       "      <td>179055.0</td>\n",
       "      <td>Approved</td>\n",
       "      <td>New</td>\n",
       "      <td>-25.0</td>\n",
       "      <td>-17.0</td>\n",
       "      <td>0.0</td>\n",
       "    </tr>\n",
       "    <tr>\n",
       "      <th>2</th>\n",
       "      <td>100002</td>\n",
       "      <td>1</td>\n",
       "      <td>Cash loans</td>\n",
       "      <td>M</td>\n",
       "      <td>N</td>\n",
       "      <td>Y</td>\n",
       "      <td>0</td>\n",
       "      <td>202500.0</td>\n",
       "      <td>406597.5</td>\n",
       "      <td>24700.5</td>\n",
       "      <td>...</td>\n",
       "      <td>19071.0</td>\n",
       "      <td>0.0</td>\n",
       "      <td>Consumer credit</td>\n",
       "      <td>1038818.0</td>\n",
       "      <td>179055.0</td>\n",
       "      <td>Approved</td>\n",
       "      <td>New</td>\n",
       "      <td>-25.0</td>\n",
       "      <td>-17.0</td>\n",
       "      <td>0.0</td>\n",
       "    </tr>\n",
       "    <tr>\n",
       "      <th>3</th>\n",
       "      <td>100002</td>\n",
       "      <td>1</td>\n",
       "      <td>Cash loans</td>\n",
       "      <td>M</td>\n",
       "      <td>N</td>\n",
       "      <td>Y</td>\n",
       "      <td>0</td>\n",
       "      <td>202500.0</td>\n",
       "      <td>406597.5</td>\n",
       "      <td>24700.5</td>\n",
       "      <td>...</td>\n",
       "      <td>120735.0</td>\n",
       "      <td>0.0</td>\n",
       "      <td>Consumer credit</td>\n",
       "      <td>1038818.0</td>\n",
       "      <td>179055.0</td>\n",
       "      <td>Approved</td>\n",
       "      <td>New</td>\n",
       "      <td>-25.0</td>\n",
       "      <td>-17.0</td>\n",
       "      <td>0.0</td>\n",
       "    </tr>\n",
       "    <tr>\n",
       "      <th>4</th>\n",
       "      <td>100002</td>\n",
       "      <td>1</td>\n",
       "      <td>Cash loans</td>\n",
       "      <td>M</td>\n",
       "      <td>N</td>\n",
       "      <td>Y</td>\n",
       "      <td>0</td>\n",
       "      <td>202500.0</td>\n",
       "      <td>406597.5</td>\n",
       "      <td>24700.5</td>\n",
       "      <td>...</td>\n",
       "      <td>450000.0</td>\n",
       "      <td>0.0</td>\n",
       "      <td>Consumer credit</td>\n",
       "      <td>1038818.0</td>\n",
       "      <td>179055.0</td>\n",
       "      <td>Approved</td>\n",
       "      <td>New</td>\n",
       "      <td>-25.0</td>\n",
       "      <td>-17.0</td>\n",
       "      <td>0.0</td>\n",
       "    </tr>\n",
       "  </tbody>\n",
       "</table>\n",
       "<p>5 rows × 43 columns</p>\n",
       "</div>"
      ],
      "text/plain": [
       "   SK_ID_CURR  TARGET NAME_CONTRACT_TYPE CODE_GENDER FLAG_OWN_CAR  \\\n",
       "0      100002       1         Cash loans           M            N   \n",
       "1      100002       1         Cash loans           M            N   \n",
       "2      100002       1         Cash loans           M            N   \n",
       "3      100002       1         Cash loans           M            N   \n",
       "4      100002       1         Cash loans           M            N   \n",
       "\n",
       "  FLAG_OWN_REALTY  CNT_CHILDREN  AMT_INCOME_TOTAL  AMT_CREDIT  AMT_ANNUITY  \\\n",
       "0               Y             0          202500.0    406597.5      24700.5   \n",
       "1               Y             0          202500.0    406597.5      24700.5   \n",
       "2               Y             0          202500.0    406597.5      24700.5   \n",
       "3               Y             0          202500.0    406597.5      24700.5   \n",
       "4               Y             0          202500.0    406597.5      24700.5   \n",
       "\n",
       "   ...  AMT_CREDIT_SUM AMT_CREDIT_SUM_OVERDUE      CREDIT_TYPE SK_ID_PREV  \\\n",
       "0  ...         40761.0                    0.0      Credit card  1038818.0   \n",
       "1  ...        135000.0                    0.0  Consumer credit  1038818.0   \n",
       "2  ...         19071.0                    0.0  Consumer credit  1038818.0   \n",
       "3  ...        120735.0                    0.0  Consumer credit  1038818.0   \n",
       "4  ...        450000.0                    0.0  Consumer credit  1038818.0   \n",
       "\n",
       "  AMT_APPLICATION  NAME_CONTRACT_STATUS  NAME_CLIENT_TYPE  DAYS_LAST_DUE  \\\n",
       "0        179055.0              Approved               New          -25.0   \n",
       "1        179055.0              Approved               New          -25.0   \n",
       "2        179055.0              Approved               New          -25.0   \n",
       "3        179055.0              Approved               New          -25.0   \n",
       "4        179055.0              Approved               New          -25.0   \n",
       "\n",
       "  DAYS_TERMINATION  NFLAG_INSURED_ON_APPROVAL  \n",
       "0            -17.0                        0.0  \n",
       "1            -17.0                        0.0  \n",
       "2            -17.0                        0.0  \n",
       "3            -17.0                        0.0  \n",
       "4            -17.0                        0.0  \n",
       "\n",
       "[5 rows x 43 columns]"
      ]
     },
     "execution_count": 2,
     "metadata": {},
     "output_type": "execute_result"
    }
   ],
   "source": [
    "train = pd.read_csv('train_set.csv')\n",
    "train['TARGET'].value_counts()\n",
    "df1 = train[train['TARGET'] == 1]\n",
    "df2 = train[train['TARGET'] == 0].sample(8517)\n",
    "df = pd.concat([df1, df2], axis=0)\n",
    "train_set = df.iloc[:, 1:]\n",
    "\n",
    "str_cols = train_set.select_dtypes(include = 'object').columns\n",
    "num_cols = [x for x in train_set.columns if x not in str_cols]\n",
    "\n",
    "idx_cols = [\n",
    "    'SK_ID_CURR',\n",
    "    'BUREAU_SK_ID_CURR', 'BUREAU_SK_ID_BUREAU',\n",
    "    'PREV_SK_ID_CURR', 'PREV_SK_ID_PREV'\n",
    "]\n",
    "\n",
    "features = [x for x in num_cols if x not in ['TARGET'] + idx_cols]\n",
    "\n",
    "train_set.head()"
   ]
  },
  {
   "cell_type": "markdown",
   "id": "73006cb0",
   "metadata": {},
   "source": [
    "## Numeric variables "
   ]
  },
  {
   "cell_type": "code",
   "execution_count": 3,
   "id": "558c20e8",
   "metadata": {},
   "outputs": [],
   "source": [
    "list_corr = []\n",
    "for var in features:\n",
    "    temps = pearsonr(train_set['TARGET'], train_set[var])[0]\n",
    "    list_corr.append([var, temps])"
   ]
  },
  {
   "cell_type": "code",
   "execution_count": 4,
   "id": "39fd1137",
   "metadata": {},
   "outputs": [
    {
     "data": {
      "text/html": [
       "<div>\n",
       "<style scoped>\n",
       "    .dataframe tbody tr th:only-of-type {\n",
       "        vertical-align: middle;\n",
       "    }\n",
       "\n",
       "    .dataframe tbody tr th {\n",
       "        vertical-align: top;\n",
       "    }\n",
       "\n",
       "    .dataframe thead th {\n",
       "        text-align: right;\n",
       "    }\n",
       "</style>\n",
       "<table border=\"1\" class=\"dataframe\">\n",
       "  <thead>\n",
       "    <tr style=\"text-align: right;\">\n",
       "      <th></th>\n",
       "      <th>TARGET</th>\n",
       "      <th>DAYS_BIRTH</th>\n",
       "      <th>DAYS_EMPLOYED</th>\n",
       "      <th>EXT_SOURCE_1</th>\n",
       "      <th>EXT_SOURCE_2</th>\n",
       "      <th>EXT_SOURCE_3</th>\n",
       "      <th>DAYS_LAST_PHONE_CHANGE</th>\n",
       "      <th>DAYS_CREDIT</th>\n",
       "    </tr>\n",
       "  </thead>\n",
       "  <tbody>\n",
       "    <tr>\n",
       "      <th>TARGET</th>\n",
       "      <td>1.000000</td>\n",
       "      <td>0.043453</td>\n",
       "      <td>0.052418</td>\n",
       "      <td>-0.141721</td>\n",
       "      <td>-0.123164</td>\n",
       "      <td>-0.168558</td>\n",
       "      <td>0.034597</td>\n",
       "      <td>0.059863</td>\n",
       "    </tr>\n",
       "    <tr>\n",
       "      <th>DAYS_BIRTH</th>\n",
       "      <td>0.043453</td>\n",
       "      <td>1.000000</td>\n",
       "      <td>0.362970</td>\n",
       "      <td>-0.512406</td>\n",
       "      <td>-0.122055</td>\n",
       "      <td>-0.082347</td>\n",
       "      <td>0.167308</td>\n",
       "      <td>0.155007</td>\n",
       "    </tr>\n",
       "    <tr>\n",
       "      <th>DAYS_EMPLOYED</th>\n",
       "      <td>0.052418</td>\n",
       "      <td>0.362970</td>\n",
       "      <td>1.000000</td>\n",
       "      <td>-0.215585</td>\n",
       "      <td>-0.079992</td>\n",
       "      <td>-0.017826</td>\n",
       "      <td>0.155605</td>\n",
       "      <td>0.094019</td>\n",
       "    </tr>\n",
       "    <tr>\n",
       "      <th>EXT_SOURCE_1</th>\n",
       "      <td>-0.141721</td>\n",
       "      <td>-0.512406</td>\n",
       "      <td>-0.215585</td>\n",
       "      <td>1.000000</td>\n",
       "      <td>0.152112</td>\n",
       "      <td>0.116166</td>\n",
       "      <td>-0.138683</td>\n",
       "      <td>-0.123850</td>\n",
       "    </tr>\n",
       "    <tr>\n",
       "      <th>EXT_SOURCE_2</th>\n",
       "      <td>-0.123164</td>\n",
       "      <td>-0.122055</td>\n",
       "      <td>-0.079992</td>\n",
       "      <td>0.152112</td>\n",
       "      <td>1.000000</td>\n",
       "      <td>0.105551</td>\n",
       "      <td>-0.191546</td>\n",
       "      <td>-0.066738</td>\n",
       "    </tr>\n",
       "    <tr>\n",
       "      <th>EXT_SOURCE_3</th>\n",
       "      <td>-0.168558</td>\n",
       "      <td>-0.082347</td>\n",
       "      <td>-0.017826</td>\n",
       "      <td>0.116166</td>\n",
       "      <td>0.105551</td>\n",
       "      <td>1.000000</td>\n",
       "      <td>-0.023438</td>\n",
       "      <td>-0.203699</td>\n",
       "    </tr>\n",
       "    <tr>\n",
       "      <th>DAYS_LAST_PHONE_CHANGE</th>\n",
       "      <td>0.034597</td>\n",
       "      <td>0.167308</td>\n",
       "      <td>0.155605</td>\n",
       "      <td>-0.138683</td>\n",
       "      <td>-0.191546</td>\n",
       "      <td>-0.023438</td>\n",
       "      <td>1.000000</td>\n",
       "      <td>0.082875</td>\n",
       "    </tr>\n",
       "    <tr>\n",
       "      <th>DAYS_CREDIT</th>\n",
       "      <td>0.059863</td>\n",
       "      <td>0.155007</td>\n",
       "      <td>0.094019</td>\n",
       "      <td>-0.123850</td>\n",
       "      <td>-0.066738</td>\n",
       "      <td>-0.203699</td>\n",
       "      <td>0.082875</td>\n",
       "      <td>1.000000</td>\n",
       "    </tr>\n",
       "  </tbody>\n",
       "</table>\n",
       "</div>"
      ],
      "text/plain": [
       "                          TARGET  DAYS_BIRTH  DAYS_EMPLOYED  EXT_SOURCE_1  \\\n",
       "TARGET                  1.000000    0.043453       0.052418     -0.141721   \n",
       "DAYS_BIRTH              0.043453    1.000000       0.362970     -0.512406   \n",
       "DAYS_EMPLOYED           0.052418    0.362970       1.000000     -0.215585   \n",
       "EXT_SOURCE_1           -0.141721   -0.512406      -0.215585      1.000000   \n",
       "EXT_SOURCE_2           -0.123164   -0.122055      -0.079992      0.152112   \n",
       "EXT_SOURCE_3           -0.168558   -0.082347      -0.017826      0.116166   \n",
       "DAYS_LAST_PHONE_CHANGE  0.034597    0.167308       0.155605     -0.138683   \n",
       "DAYS_CREDIT             0.059863    0.155007       0.094019     -0.123850   \n",
       "\n",
       "                        EXT_SOURCE_2  EXT_SOURCE_3  DAYS_LAST_PHONE_CHANGE  \\\n",
       "TARGET                     -0.123164     -0.168558                0.034597   \n",
       "DAYS_BIRTH                 -0.122055     -0.082347                0.167308   \n",
       "DAYS_EMPLOYED              -0.079992     -0.017826                0.155605   \n",
       "EXT_SOURCE_1                0.152112      0.116166               -0.138683   \n",
       "EXT_SOURCE_2                1.000000      0.105551               -0.191546   \n",
       "EXT_SOURCE_3                0.105551      1.000000               -0.023438   \n",
       "DAYS_LAST_PHONE_CHANGE     -0.191546     -0.023438                1.000000   \n",
       "DAYS_CREDIT                -0.066738     -0.203699                0.082875   \n",
       "\n",
       "                        DAYS_CREDIT  \n",
       "TARGET                     0.059863  \n",
       "DAYS_BIRTH                 0.155007  \n",
       "DAYS_EMPLOYED              0.094019  \n",
       "EXT_SOURCE_1              -0.123850  \n",
       "EXT_SOURCE_2              -0.066738  \n",
       "EXT_SOURCE_3              -0.203699  \n",
       "DAYS_LAST_PHONE_CHANGE     0.082875  \n",
       "DAYS_CREDIT                1.000000  "
      ]
     },
     "execution_count": 4,
     "metadata": {},
     "output_type": "execute_result"
    }
   ],
   "source": [
    "cols_corr = []\n",
    "for x in list_corr:\n",
    "    if abs(x[1]) > 0.03:\n",
    "        cols_corr.append(x[0])\n",
    "    else:\n",
    "        pass\n",
    "    \n",
    "corr = df[['TARGET'] + cols_corr].corr()\n",
    "corr"
   ]
  },
  {
   "cell_type": "markdown",
   "id": "d8e30bae",
   "metadata": {},
   "source": [
    "In the following part, I select all numeric variables which have correlation coeff with TARGET more than 0.05 and plot a heat map."
   ]
  },
  {
   "cell_type": "code",
   "execution_count": 5,
   "id": "b7097729",
   "metadata": {},
   "outputs": [
    {
     "data": {
      "image/png": "[encoded data removed]",
      "text/plain": [
       "<Figure size 504x360 with 2 Axes>"
      ]
     },
     "metadata": {},
     "output_type": "display_data"
    }
   ],
   "source": [
    "mask = np.zeros_like(corr)\n",
    "mask[np.triu_indices_from(mask)] = True\n",
    "with sns.axes_style(\"white\"):\n",
    "    f, ax = plt.subplots(figsize=(7, 5))\n",
    "    ax = sns.heatmap(corr, mask=mask, vmax=.3, square=True)"
   ]
  },
  {
   "cell_type": "markdown",
   "id": "a8c44de7",
   "metadata": {},
   "source": [
    "## Categorical variables"
   ]
  },
  {
   "cell_type": "code",
   "execution_count": 8,
   "id": "d3161075",
   "metadata": {},
   "outputs": [],
   "source": [
    "label_encoder = preprocessing.LabelEncoder()\n",
    "for x in str_cols:\n",
    "    train_set[x] = label_encoder.fit_transform(train_set[x]) \n"
   ]
  },
  {
   "cell_type": "code",
   "execution_count": 9,
   "id": "229e3be6",
   "metadata": {},
   "outputs": [],
   "source": [
    "features_str = [x for x in str_cols if x not in ['TARGET'] + idx_cols]"
   ]
  },
  {
   "cell_type": "code",
   "execution_count": 10,
   "id": "44c26df8",
   "metadata": {},
   "outputs": [
    {
     "name": "stderr",
     "output_type": "stream",
     "text": [
      "C:\\Users\\HO_ANT\\Anaconda3\\lib\\site-packages\\scipy\\stats\\stats.py:3913: PearsonRConstantInputWarning: An input array is constant; the correlation coefficent is not defined.\n",
      "  warnings.warn(PearsonRConstantInputWarning())\n"
     ]
    },
    {
     "data": {
      "text/plain": [
       "[['NAME_CONTRACT_TYPE', -0.04504382821482332],\n",
       " ['CODE_GENDER', 0.020729925114594684],\n",
       " ['FLAG_OWN_CAR', -0.027854611101511592],\n",
       " ['FLAG_OWN_REALTY', -0.0030256297769492074],\n",
       " ['NAME_INCOME_TYPE', 0.0236505364237704],\n",
       " ['NAME_EDUCATION_TYPE', 0.06642448422063511],\n",
       " ['NAME_FAMILY_STATUS', -0.001047353915759086],\n",
       " ['NAME_HOUSING_TYPE', 0.02579211718330735],\n",
       " ['OCCUPATION_TYPE', 0.032465963920702764],\n",
       " ['ORGANIZATION_TYPE', -0.00028506878192077994],\n",
       " ['CREDIT_ACTIVE', -0.02651086137589677],\n",
       " ['CREDIT_TYPE', 0.011384759010013165],\n",
       " ['NAME_CONTRACT_STATUS', nan],\n",
       " ['NAME_CLIENT_TYPE', -0.011083324629325401]]"
      ]
     },
     "execution_count": 10,
     "metadata": {},
     "output_type": "execute_result"
    }
   ],
   "source": [
    "list_corr = []\n",
    "for var in features_str:\n",
    "    temps = pearsonr(train_set['TARGET'], train_set[var])[0]\n",
    "    list_corr.append([var, temps])\n",
    "    \n",
    "list_corr"
   ]
  },
  {
   "cell_type": "code",
   "execution_count": 42,
   "id": "f372894a",
   "metadata": {},
   "outputs": [],
   "source": [
    "cols_corr = []\n",
    "for x in list_corr:\n",
    "    if abs(x[1]) > 0.03:\n",
    "        cols_corr.append(x[0])\n",
    "    else:\n",
    "        pass"
   ]
  },
  {
   "cell_type": "code",
   "execution_count": 43,
   "id": "874be4d1",
   "metadata": {},
   "outputs": [
    {
     "data": {
      "text/plain": [
       "['NAME_CONTRACT_TYPE', 'NAME_EDUCATION_TYPE', 'OCCUPATION_TYPE']"
      ]
     },
     "execution_count": 43,
     "metadata": {},
     "output_type": "execute_result"
    }
   ],
   "source": [
    "cols_corr"
   ]
  },
  {
   "cell_type": "code",
   "execution_count": 44,
   "id": "752caa95",
   "metadata": {},
   "outputs": [
    {
     "data": {
      "text/html": [
       "<div>\n",
       "<style scoped>\n",
       "    .dataframe tbody tr th:only-of-type {\n",
       "        vertical-align: middle;\n",
       "    }\n",
       "\n",
       "    .dataframe tbody tr th {\n",
       "        vertical-align: top;\n",
       "    }\n",
       "\n",
       "    .dataframe thead th {\n",
       "        text-align: right;\n",
       "    }\n",
       "</style>\n",
       "<table border=\"1\" class=\"dataframe\">\n",
       "  <thead>\n",
       "    <tr style=\"text-align: right;\">\n",
       "      <th></th>\n",
       "      <th>TARGET</th>\n",
       "      <th>NAME_CONTRACT_TYPE</th>\n",
       "      <th>NAME_EDUCATION_TYPE</th>\n",
       "      <th>OCCUPATION_TYPE</th>\n",
       "    </tr>\n",
       "  </thead>\n",
       "  <tbody>\n",
       "    <tr>\n",
       "      <th>TARGET</th>\n",
       "      <td>1.000000</td>\n",
       "      <td>-0.045044</td>\n",
       "      <td>0.066424</td>\n",
       "      <td>0.032466</td>\n",
       "    </tr>\n",
       "    <tr>\n",
       "      <th>NAME_CONTRACT_TYPE</th>\n",
       "      <td>-0.045044</td>\n",
       "      <td>1.000000</td>\n",
       "      <td>-0.025836</td>\n",
       "      <td>0.007235</td>\n",
       "    </tr>\n",
       "    <tr>\n",
       "      <th>NAME_EDUCATION_TYPE</th>\n",
       "      <td>0.066424</td>\n",
       "      <td>-0.025836</td>\n",
       "      <td>1.000000</td>\n",
       "      <td>0.144950</td>\n",
       "    </tr>\n",
       "    <tr>\n",
       "      <th>OCCUPATION_TYPE</th>\n",
       "      <td>0.032466</td>\n",
       "      <td>0.007235</td>\n",
       "      <td>0.144950</td>\n",
       "      <td>1.000000</td>\n",
       "    </tr>\n",
       "  </tbody>\n",
       "</table>\n",
       "</div>"
      ],
      "text/plain": [
       "                       TARGET  NAME_CONTRACT_TYPE  NAME_EDUCATION_TYPE  \\\n",
       "TARGET               1.000000           -0.045044             0.066424   \n",
       "NAME_CONTRACT_TYPE  -0.045044            1.000000            -0.025836   \n",
       "NAME_EDUCATION_TYPE  0.066424           -0.025836             1.000000   \n",
       "OCCUPATION_TYPE      0.032466            0.007235             0.144950   \n",
       "\n",
       "                     OCCUPATION_TYPE  \n",
       "TARGET                      0.032466  \n",
       "NAME_CONTRACT_TYPE          0.007235  \n",
       "NAME_EDUCATION_TYPE         0.144950  \n",
       "OCCUPATION_TYPE             1.000000  "
      ]
     },
     "execution_count": 44,
     "metadata": {},
     "output_type": "execute_result"
    }
   ],
   "source": [
    "corr = train_set[['TARGET'] + cols_corr].corr()\n",
    "corr"
   ]
  },
  {
   "cell_type": "markdown",
   "id": "52a2e2d9",
   "metadata": {},
   "source": [
    "In the following part, I select all numeric variables which have correlation coeff with TARGET more than 0.03 and plot a heat map."
   ]
  },
  {
   "cell_type": "code",
   "execution_count": 45,
   "id": "e501a74a",
   "metadata": {},
   "outputs": [
    {
     "data": {
      "image/png": "[encoded data removed]",
      "text/plain": [
       "<Figure size 504x360 with 2 Axes>"
      ]
     },
     "metadata": {},
     "output_type": "display_data"
    }
   ],
   "source": [
    "mask = np.zeros_like(corr)\n",
    "mask[np.triu_indices_from(mask)] = True\n",
    "with sns.axes_style(\"white\"):\n",
    "    f, ax = plt.subplots(figsize=(7, 5))\n",
    "    ax = sns.heatmap(corr, mask=mask, vmax=.3, square=True)"
   ]
  },
  {
   "cell_type": "markdown",
   "id": "2e0940f0",
   "metadata": {},
   "source": [
    "Next, I will create a dataframe which contains the most important features based on the correlation results above."
   ]
  },
  {
   "cell_type": "code",
   "execution_count": 15,
   "id": "9a33332a",
   "metadata": {},
   "outputs": [],
   "source": [
    "cols_keep = ['NAME_CONTRACT_TYPE', 'FLAG_OWN_CAR', 'NAME_EDUCATION_TYPE', 'OCCUPATION_TYPE', \n",
    "             'EXT_SOURCE_1', 'EXT_SOURCE_2', 'EXT_SOURCE_3', 'DAYS_EMPLOYED', 'DAYS_CREDIT', 'TARGET']\n",
    "\n",
    "train_final = train_set[cols_keep]"
   ]
  },
  {
   "cell_type": "markdown",
   "id": "65617a3d",
   "metadata": {},
   "source": [
    "# Engineering Models"
   ]
  },
  {
   "cell_type": "code",
   "execution_count": 16,
   "id": "96dd1054",
   "metadata": {},
   "outputs": [],
   "source": [
    "X = train_final.iloc[:, :-1].values"
   ]
  },
  {
   "cell_type": "code",
   "execution_count": 17,
   "id": "1c56fc6e",
   "metadata": {},
   "outputs": [],
   "source": [
    "y = train_final['TARGET'].values"
   ]
  },
  {
   "cell_type": "code",
   "execution_count": 18,
   "id": "490d25c9",
   "metadata": {},
   "outputs": [],
   "source": [
    "from sklearn.metrics import roc_auc_score"
   ]
  },
  {
   "cell_type": "markdown",
   "id": "92876f83",
   "metadata": {},
   "source": [
    "## Logistic regression"
   ]
  },
  {
   "cell_type": "code",
   "execution_count": 19,
   "id": "32383662",
   "metadata": {},
   "outputs": [],
   "source": [
    "from sklearn.model_selection import train_test_split\n",
    "from sklearn.linear_model import LogisticRegression\n",
    "from sklearn.metrics import roc_auc_score\n",
    "from sklearn.metrics import plot_roc_curve"
   ]
  },
  {
   "cell_type": "code",
   "execution_count": 20,
   "id": "6ac4fcde",
   "metadata": {},
   "outputs": [],
   "source": [
    "X_train, X_test, y_train, y_test = train_test_split(X, y, random_state = 0, stratify = y)"
   ]
  },
  {
   "cell_type": "code",
   "execution_count": 21,
   "id": "46893a00",
   "metadata": {},
   "outputs": [
    {
     "name": "stdout",
     "output_type": "stream",
     "text": [
      "0.6430997901473606\n",
      "0.6451253869430629\n",
      "0.7261089123577475\n",
      "0.7251959385187662\n"
     ]
    },
    {
     "name": "stderr",
     "output_type": "stream",
     "text": [
      "C:\\Users\\HO_ANT\\Anaconda3\\lib\\site-packages\\sklearn\\linear_model\\_logistic.py:763: ConvergenceWarning: lbfgs failed to converge (status=1):\n",
      "STOP: TOTAL NO. of ITERATIONS REACHED LIMIT.\n",
      "\n",
      "Increase the number of iterations (max_iter) or scale the data as shown in:\n",
      "    https://scikit-learn.org/stable/modules/preprocessing.html\n",
      "Please also refer to the documentation for alternative solver options:\n",
      "    https://scikit-learn.org/stable/modules/linear_model.html#logistic-regression\n",
      "  n_iter_i = _check_optimize_result(\n"
     ]
    }
   ],
   "source": [
    "lor = LogisticRegression(class_weight=\"balanced\")\n",
    "lor.fit(X_train, y_train)\n",
    "\n",
    "print(lor.score(X_train, y_train))\n",
    "print(lor.score(X_test, y_test))\n",
    "print(roc_auc_score(y_train, lor.predict_proba(X_train)[:, 1]))\n",
    "print(roc_auc_score(y_test, lor.predict_proba(X_test)[:, 1]))"
   ]
  },
  {
   "cell_type": "code",
   "execution_count": 22,
   "id": "0f488e8e",
   "metadata": {},
   "outputs": [
    {
     "data": {
      "text/plain": [
       "<sklearn.metrics._plot.roc_curve.RocCurveDisplay at 0x1e4898db910>"
      ]
     },
     "execution_count": 22,
     "metadata": {},
     "output_type": "execute_result"
    },
    {
     "data": {
      "image/png": "[encoded data removed]",
      "text/plain": [
       "<Figure size 432x288 with 1 Axes>"
      ]
     },
     "metadata": {},
     "output_type": "display_data"
    }
   ],
   "source": [
    "plot_roc_curve(lor, X_test, y_test)"
   ]
  },
  {
   "cell_type": "markdown",
   "id": "ba4ed6de",
   "metadata": {},
   "source": [
    "## Decision tree"
   ]
  },
  {
   "cell_type": "code",
   "execution_count": 23,
   "id": "148f286f",
   "metadata": {},
   "outputs": [],
   "source": [
    "from sklearn.datasets import load_iris\n",
    "from sklearn.tree import DecisionTreeClassifier\n",
    "from sklearn.tree import export_text\n",
    "from sklearn import tree"
   ]
  },
  {
   "cell_type": "code",
   "execution_count": 24,
   "id": "e0495829",
   "metadata": {},
   "outputs": [
    {
     "name": "stdout",
     "output_type": "stream",
     "text": [
      "1.0\n",
      "0.9697401829501583\n"
     ]
    }
   ],
   "source": [
    "dtree = tree.DecisionTreeClassifier()\n",
    "dtree = dtree.fit(X_train, y_train)\n",
    "\n",
    "print(dtree.score(X_train, y_train))\n",
    "print(dtree.score(X_test, y_test))"
   ]
  },
  {
   "cell_type": "code",
   "execution_count": 25,
   "id": "0ae5ce49",
   "metadata": {},
   "outputs": [
    {
     "data": {
      "text/plain": [
       "<sklearn.metrics._plot.roc_curve.RocCurveDisplay at 0x1e48951e700>"
      ]
     },
     "execution_count": 25,
     "metadata": {},
     "output_type": "execute_result"
    },
    {
     "data": {
      "image/png": "[encoded data removed]",
      "text/plain": [
       "<Figure size 432x288 with 1 Axes>"
      ]
     },
     "metadata": {},
     "output_type": "display_data"
    }
   ],
   "source": [
    "plot_roc_curve(dtree, X_test, y_test)"
   ]
  },
  {
   "cell_type": "markdown",
   "id": "9bb10110",
   "metadata": {},
   "source": [
    "## Random Forest"
   ]
  },
  {
   "cell_type": "code",
   "execution_count": 26,
   "id": "17dacc1b",
   "metadata": {},
   "outputs": [],
   "source": [
    "from sklearn.ensemble import RandomForestClassifier"
   ]
  },
  {
   "cell_type": "code",
   "execution_count": 27,
   "id": "167d3b57",
   "metadata": {},
   "outputs": [
    {
     "name": "stdout",
     "output_type": "stream",
     "text": [
      "0.9261921600908974\n",
      "0.9261243087196968\n"
     ]
    }
   ],
   "source": [
    "rf = RandomForestClassifier(max_depth=5, random_state=0)\n",
    "rf.fit(X_train, y_train)\n",
    "\n",
    "print(rf.score(X_train, y_train))\n",
    "print(rf.score(X_test, y_test))"
   ]
  },
  {
   "cell_type": "code",
   "execution_count": 28,
   "id": "64e25cab",
   "metadata": {},
   "outputs": [
    {
     "data": {
      "image/png": "[encoded data removed]",
      "text/plain": [
       "<Figure size 432x288 with 1 Axes>"
      ]
     },
     "metadata": {},
     "output_type": "display_data"
    }
   ],
   "source": [
    "ROC_rf = plot_roc_curve(rf, X_test, y_test)"
   ]
  },
  {
   "cell_type": "markdown",
   "id": "12355043",
   "metadata": {},
   "source": [
    "## Gradient-Boosted Tree Classifier"
   ]
  },
  {
   "cell_type": "code",
   "execution_count": 29,
   "id": "00dad10a",
   "metadata": {},
   "outputs": [],
   "source": [
    "from sklearn.ensemble import GradientBoostingClassifier"
   ]
  },
  {
   "cell_type": "code",
   "execution_count": 30,
   "id": "49a43749",
   "metadata": {},
   "outputs": [
    {
     "name": "stdout",
     "output_type": "stream",
     "text": [
      "0.9386905659064823\n",
      "0.9348544398455706\n"
     ]
    }
   ],
   "source": [
    "gbt = GradientBoostingClassifier(n_estimators=100, learning_rate=1.0, random_state=0).fit(X_train, y_train)\n",
    "gbt.fit(X_train, y_train)\n",
    "\n",
    "print(gbt.score(X_train, y_train))\n",
    "print(gbt.score(X_test, y_test))"
   ]
  },
  {
   "cell_type": "code",
   "execution_count": 31,
   "id": "24794361",
   "metadata": {},
   "outputs": [
    {
     "data": {
      "image/png": "[encoded data removed]",
      "text/plain": [
       "<Figure size 432x288 with 1 Axes>"
      ]
     },
     "metadata": {},
     "output_type": "display_data"
    }
   ],
   "source": [
    "ROC_gbt = plot_roc_curve(gbt, X_test, y_test)"
   ]
  },
  {
   "cell_type": "markdown",
   "id": "d808ff1f",
   "metadata": {},
   "source": [
    "# Comparison"
   ]
  },
  {
   "cell_type": "code",
   "execution_count": 32,
   "id": "daeef6ab",
   "metadata": {},
   "outputs": [],
   "source": [
    "ROC_logistic = roc_auc_score(y_test, lor.predict_proba(X_test)[:, 1])\n",
    "ROC_tree = roc_auc_score(y_test, dtree.predict_proba(X_test)[:, 1])\n",
    "ROC_rf = roc_auc_score(y_test, rf.predict_proba(X_test)[:, 1])\n",
    "ROC_gbt = roc_auc_score(y_test, gbt.predict_proba(X_test)[:, 1])\n",
    "\n",
    "ROC_score = [[ROC_gbt, 'Gradient Boosted Tree'], [ROC_rf, 'Random Forest'], \n",
    "             [ROC_tree, 'Decision Tree'], [ROC_logistic, 'Logistic Regression']]"
   ]
  },
  {
   "cell_type": "code",
   "execution_count": 33,
   "id": "3f88fe38",
   "metadata": {},
   "outputs": [
    {
     "data": {
      "text/html": [
       "<div>\n",
       "<style scoped>\n",
       "    .dataframe tbody tr th:only-of-type {\n",
       "        vertical-align: middle;\n",
       "    }\n",
       "\n",
       "    .dataframe tbody tr th {\n",
       "        vertical-align: top;\n",
       "    }\n",
       "\n",
       "    .dataframe thead th {\n",
       "        text-align: right;\n",
       "    }\n",
       "</style>\n",
       "<table border=\"1\" class=\"dataframe\">\n",
       "  <thead>\n",
       "    <tr style=\"text-align: right;\">\n",
       "      <th></th>\n",
       "      <th>ROC_test</th>\n",
       "      <th>Models</th>\n",
       "    </tr>\n",
       "  </thead>\n",
       "  <tbody>\n",
       "    <tr>\n",
       "      <th>0</th>\n",
       "      <td>0.725196</td>\n",
       "      <td>Logistic Regression</td>\n",
       "    </tr>\n",
       "    <tr>\n",
       "      <th>1</th>\n",
       "      <td>0.765347</td>\n",
       "      <td>Random Forest</td>\n",
       "    </tr>\n",
       "    <tr>\n",
       "      <th>2</th>\n",
       "      <td>0.780305</td>\n",
       "      <td>Gradient Boosted Tree</td>\n",
       "    </tr>\n",
       "    <tr>\n",
       "      <th>3</th>\n",
       "      <td>0.822904</td>\n",
       "      <td>Decision Tree</td>\n",
       "    </tr>\n",
       "  </tbody>\n",
       "</table>\n",
       "</div>"
      ],
      "text/plain": [
       "   ROC_test                 Models\n",
       "0  0.725196    Logistic Regression\n",
       "1  0.765347          Random Forest\n",
       "2  0.780305  Gradient Boosted Tree\n",
       "3  0.822904          Decision Tree"
      ]
     },
     "execution_count": 33,
     "metadata": {},
     "output_type": "execute_result"
    }
   ],
   "source": [
    "import pandas as pd\n",
    "\n",
    "df = pd.DataFrame(ROC_score, columns = ['ROC_test', 'Models'])\n",
    "df = df.sort_values(by=['ROC_test'])\n",
    "df.reset_index().iloc[:, 1:]"
   ]
  },
  {
   "cell_type": "markdown",
   "id": "9cd8d6a1",
   "metadata": {},
   "source": [
    "As can be seen on the plot of important features, during considering the credit applications, several factors that have a strong impacts to TARGET are all external resources, type of jobs, education level, employment duration \n",
    "and their credit history (in internal credit institute and other credit bureau).\n",
    "\n",
    "In conclusion, Decision Tree outperform all other models used and Logistic Regression preforms  as the lowest productive model."
   ]
  },
  {
   "cell_type": "code",
   "execution_count": null,
   "id": "ccf95cfd",
   "metadata": {},
   "outputs": [],
   "source": []
  }
 ],
 "metadata": {
  "kernelspec": {
   "display_name": "Python 3",
   "language": "python",
   "name": "python3"
  },
  "language_info": {
   "codemirror_mode": {
    "name": "ipython",
    "version": 3
   },
   "file_extension": ".py",
   "mimetype": "text/x-python",
   "name": "python",
   "nbconvert_exporter": "python",
   "pygments_lexer": "ipython3",
   "version": "3.8.8"
  },
  "toc": {
   "base_numbering": 1,
   "nav_menu": {},
   "number_sections": true,
   "sideBar": true,
   "skip_h1_title": false,
   "title_cell": "Table of Contents",
   "title_sidebar": "Contents",
   "toc_cell": false,
   "toc_position": {
    "height": "calc(100% - 180px)",
    "left": "10px",
    "top": "150px",
    "width": "165px"
   },
   "toc_section_display": true,
   "toc_window_display": true
  }
 },
 "nbformat": 4,
 "nbformat_minor": 5
}
